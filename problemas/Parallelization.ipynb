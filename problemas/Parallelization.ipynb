{
 "cells": [
  {
   "cell_type": "markdown",
   "metadata": {},
   "source": [
    "# **Parallelization (Paralelização)**\n",
    "\n",
    "Na prática, a paralelização é essencial e pode acelerar significativamente a otimização. Para algoritmos baseados em população, a avaliação de um conjunto de soluções pode ser facilmente paralelizada.\n",
    "\n",
    "## **Vectorized Matrix Operations (Operações Matriciais Vetorizadas)**\n",
    "\n",
    "Uma maneira eficiente de paralelizar a avaliação é usando **operações matriciais NumPy**, como no exemplo abaixo:\n"
   ]
  },
  {
   "cell_type": "code",
   "execution_count": 2,
   "metadata": {},
   "outputs": [],
   "source": [
    "import numpy as np\n",
    "from pymoo.core.problem import Problem\n",
    "\n",
    "class MyProblem(Problem):\n",
    "\n",
    "    def __init__(self, **kwargs):\n",
    "        super().__init__(n_var=10, n_obj=1, n_ieq_constr=0, xl=-5, xu=5, **kwargs)\n",
    "\n",
    "    def _evaluate(self, x, out, *args, **kwargs):\n",
    "         out[\"F\"] = np.sum(x ** 2, axis=1)\n",
    "\n",
    "problem = MyProblem()"
   ]
  },
  {
   "cell_type": "code",
   "execution_count": 3,
   "metadata": {},
   "outputs": [
    {
     "name": "stdout",
     "output_type": "stream",
     "text": [
      "Threads: 1.2808420658111572\n"
     ]
    }
   ],
   "source": [
    "from pymoo.algorithms.soo.nonconvex.ga import GA\n",
    "from pymoo.optimize import minimize\n",
    "\n",
    "res = minimize(problem, GA(), termination=(\"n_gen\", 200), seed=1)\n",
    "print('Threads:', res.exec_time)"
   ]
  },
  {
   "cell_type": "markdown",
   "metadata": {},
   "source": [
    "# Starmap Interface"
   ]
  },
  {
   "cell_type": "code",
   "execution_count": 4,
   "metadata": {},
   "outputs": [],
   "source": [
    "from pymoo.core.problem import ElementwiseProblem\n",
    "\n",
    "class MyProblem(ElementwiseProblem):\n",
    "\n",
    "    def __init__(self, **kwargs):\n",
    "        super().__init__(n_var=10, n_obj=1, n_ieq_constr=0, xl=-5, xu=5, **kwargs)\n",
    "\n",
    "    def _evaluate(self, x, out, *args, **kwargs):\n",
    "         out[\"F\"] = (x ** 2).sum()\n"
   ]
  },
  {
   "cell_type": "markdown",
   "metadata": {},
   "source": [
    "# Threads"
   ]
  },
  {
   "cell_type": "code",
   "execution_count": 5,
   "metadata": {},
   "outputs": [
    {
     "name": "stdout",
     "output_type": "stream",
     "text": [
      "Threads: 1.3931777477264404\n"
     ]
    }
   ],
   "source": [
    "from multiprocessing.pool import ThreadPool\n",
    "from pymoo.core.problem import StarmapParallelization\n",
    "from pymoo.algorithms.soo.nonconvex.ga import GA\n",
    "from pymoo.optimize import minimize\n",
    "\n",
    "# Criando um pool de threads\n",
    "n_threads = 4\n",
    "pool = ThreadPool(n_threads)\n",
    "runner = StarmapParallelization(pool.starmap)\n",
    "\n",
    "# Definindo o problema com paralelização\n",
    "problem = MyProblem(elementwise_runner=runner)\n",
    "\n",
    "res = minimize(problem, GA(), termination=(\"n_gen\", 200), seed=1)\n",
    "print('Threads:', res.exec_time)\n",
    "\n",
    "pool.close()\n"
   ]
  },
  {
   "cell_type": "markdown",
   "metadata": {},
   "source": [
    "# Processes"
   ]
  },
  {
   "cell_type": "code",
   "execution_count": 5,
   "metadata": {},
   "outputs": [
    {
     "name": "stdout",
     "output_type": "stream",
     "text": [
      "Processes: 2.198477029800415\n"
     ]
    }
   ],
   "source": [
    "import multiprocessing\n",
    "from pymoo.algorithms.soo.nonconvex.ga import GA\n",
    "from pymoo.optimize import minimize\n",
    "\n",
    "# Criando um pool de processos\n",
    "n_processes = 8\n",
    "pool = multiprocessing.Pool(n_processes)\n",
    "runner = StarmapParallelization(pool.starmap)\n",
    "\n",
    "# Definindo o problema com paralelização\n",
    "problem = MyProblem(elementwise_runner=runner)\n",
    "\n",
    "res = minimize(problem, GA(), termination=(\"n_gen\", 200), seed=1)\n",
    "print('Processes:', res.exec_time)\n",
    "\n",
    "pool.close()"
   ]
  },
  {
   "cell_type": "markdown",
   "metadata": {},
   "source": [
    "# Dask (Distribuição em Cluster)"
   ]
  },
  {
   "cell_type": "code",
   "execution_count": null,
   "metadata": {},
   "outputs": [],
   "source": [
    "from pymoo.algorithms.soo.nonconvex.ga import GA\n",
    "from pymoo.optimize import minimize\n",
    "from pymoo.core.problem import DaskParallelization\n",
    "from dask.distributed import Client\n",
    "\n",
    "client = Client()\n",
    "client.restart()\n",
    "print(\"DASK STARTED\")\n",
    "\n",
    "# Criando um runner para paralelização\n",
    "runner = DaskParallelization(client)\n",
    "\n",
    "# Definindo o problema\n",
    "problem = MyProblem(elementwise_runner=runner)\n",
    "\n",
    "res = minimize(problem, GA(), termination=(\"n_gen\", 200), seed=1)\n",
    "print('Dask:', res.exec_time)\n",
    "\n",
    "client.close()\n",
    "print(\"DASK SHUTDOWN\")"
   ]
  },
  {
   "cell_type": "markdown",
   "metadata": {},
   "source": [
    "# Custom Parallelization (Paralelização Personalizada)"
   ]
  },
  {
   "cell_type": "code",
   "execution_count": 7,
   "metadata": {},
   "outputs": [
    {
     "name": "stdout",
     "output_type": "stream",
     "text": [
      "Threads: 1.3053219318389893\n"
     ]
    }
   ],
   "source": [
    "from pymoo.core.problem import Problem\n",
    "from multiprocessing.pool import ThreadPool\n",
    "\n",
    "pool = ThreadPool(8)\n",
    "\n",
    "class MyProblem(Problem):\n",
    "\n",
    "    def __init__(self, **kwargs):\n",
    "        super().__init__(n_var=10, n_obj=1, n_ieq_constr=0, xl=-5, xu=5, **kwargs)\n",
    "\n",
    "    def _evaluate(self, X, out, *args, **kwargs):\n",
    "\n",
    "        # Define a função de avaliação\n",
    "        def my_eval(x):\n",
    "            return (x ** 2).sum()\n",
    "\n",
    "        # Prepara os parâmetros para o pool\n",
    "        params = [[X[k]] for k in range(len(X))]\n",
    "\n",
    "        # Avalia as soluções em paralelo\n",
    "        F = pool.starmap(my_eval, params)\n",
    "\n",
    "        # Armazena os valores calculados\n",
    "        out[\"F\"] = np.array(F)\n",
    "\n",
    "problem = MyProblem()\n",
    "res = minimize(problem, GA(), termination=(\"n_gen\", 200), seed=1)\n",
    "print('Threads:', res.exec_time)\n",
    "pool.close()"
   ]
  },
  {
   "cell_type": "markdown",
   "metadata": {},
   "source": [
    "# Dask - Custom Parallelization"
   ]
  },
  {
   "cell_type": "code",
   "execution_count": null,
   "metadata": {},
   "outputs": [],
   "source": [
    "import numpy as np\n",
    "from dask.distributed import Client\n",
    "from pymoo.core.problem import Problem\n",
    "from pymoo.optimize import minimize\n",
    "\n",
    "client = Client(processes=False)\n",
    "\n",
    "class MyProblem(Problem):\n",
    "\n",
    "    def __init__(self, *args, **kwargs):\n",
    "        super().__init__(n_var=10, n_obj=1, n_ieq_constr=0, xl=-5, xu=5,\n",
    "                         elementwise_evaluation=False, *args, **kwargs)\n",
    "\n",
    "    def _evaluate(self, X, out, *args, **kwargs):\n",
    "        def fun(x):\n",
    "            return np.sum(x ** 2)\n",
    "\n",
    "        jobs = [client.submit(fun, x) for x in X]\n",
    "        out[\"F\"] = np.row_stack([job.result() for job in jobs])\n",
    "\n",
    "problem = MyProblem()\n",
    "\n",
    "res = minimize(problem, GA(), termination=(\"n_gen\", 200), seed=1)\n",
    "print('Dask:', res.exec_time)\n",
    "\n",
    "client.close()"
   ]
  }
 ],
 "metadata": {
  "kernelspec": {
   "display_name": "pymoo",
   "language": "python",
   "name": "python3"
  },
  "language_info": {
   "codemirror_mode": {
    "name": "ipython",
    "version": 3
   },
   "file_extension": ".py",
   "mimetype": "text/x-python",
   "name": "python",
   "nbconvert_exporter": "python",
   "pygments_lexer": "ipython3",
   "version": "3.9.21"
  }
 },
 "nbformat": 4,
 "nbformat_minor": 2
}
