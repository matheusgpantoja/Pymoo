{
 "cells": [
  {
   "cell_type": "markdown",
   "metadata": {},
   "source": [
    "# **Tipos de Saída**\n",
    "\n",
    "### **Argumentos e Descrição**\n",
    "\n",
    "| **Argumento** | **Descrição** |\n",
    "|--------------|--------------|\n",
    "| `n_var` | Valor inteiro representando o número de variáveis de decisão. |\n",
    "| `n_obj` | Valor inteiro representando o número de objetivos. |\n",
    "| `n_constr` | Valor inteiro representando o número de restrições. |\n",
    "| `xl` | Float ou `np.ndarray` de tamanho `n_var`, representando os limites inferiores das variáveis de decisão. |\n",
    "| `xu` | Float ou `np.ndarray` de tamanho `n_var`, representando os limites superiores das variáveis de decisão. |\n",
    "| `vtype` | (Opcional) Um tipo que indica ao usuário qual variável deve ser otimizada. |\n"
   ]
  },
  {
   "cell_type": "markdown",
   "metadata": {},
   "source": [
    "# Problema Vectorizado (Problem)"
   ]
  },
  {
   "cell_type": "code",
   "execution_count": 1,
   "metadata": {},
   "outputs": [],
   "source": [
    "import numpy as np\n",
    "from pymoo.core.problem import Problem\n",
    "\n",
    "class SphereWithConstraint(Problem):\n",
    "\n",
    "    def __init__(self):\n",
    "        super().__init__(n_var=10, n_obj=1, n_ieq_constr=1, xl=0.0, xu=1.0)\n",
    "\n",
    "    def _evaluate(self, x, out, *args, **kwargs):\n",
    "        out[\"F\"] = np.sum((x - 0.5) ** 2, axis=1)  # Soma quadrática\n",
    "        out[\"G\"] = 0.1 - out[\"F\"]  # Restrição radial\n"
   ]
  },
  {
   "cell_type": "markdown",
   "metadata": {},
   "source": [
    "# Problema Elementwise (ElementwiseProblem)"
   ]
  },
  {
   "cell_type": "code",
   "execution_count": 2,
   "metadata": {},
   "outputs": [],
   "source": [
    "import numpy as np\n",
    "from pymoo.core.problem import ElementwiseProblem\n",
    "\n",
    "class ElementwiseSphereWithConstraint(ElementwiseProblem):\n",
    "\n",
    "    def __init__(self):\n",
    "        xl = np.zeros(10)\n",
    "        xl[0] = -5.0  # Primeiro elemento pode variar mais\n",
    "\n",
    "        xu = np.ones(10)\n",
    "        xu[0] = 5.0\n",
    "\n",
    "        super().__init__(n_var=10, n_obj=1, n_ieq_constr=2, xl=xl, xu=xu)\n",
    "\n",
    "    def _evaluate(self, x, out, *args, **kwargs):\n",
    "        out[\"F\"] = np.sum((x - 0.5) ** 2)  # Soma quadrática\n",
    "        out[\"G\"] = np.column_stack([0.1 - out[\"F\"], out[\"F\"] - 0.5])  # Duas restrições\n"
   ]
  },
  {
   "cell_type": "markdown",
   "metadata": {},
   "source": [
    "# Problema Definido por Funções (FunctionalProblem)"
   ]
  },
  {
   "cell_type": "code",
   "execution_count": 3,
   "metadata": {},
   "outputs": [
    {
     "name": "stdout",
     "output_type": "stream",
     "text": [
      "F: [[22.36140081 64.72622235]\n",
      " [21.59365944 68.10983732]\n",
      " [24.00863541 62.44837864]]\n",
      "\n",
      "G: [[2.95260619]\n",
      " [3.22270391]\n",
      " [3.61857122]]\n",
      "\n"
     ]
    }
   ],
   "source": [
    "import numpy as np\n",
    "from pymoo.problems.functional import FunctionalProblem\n",
    "\n",
    "# Definição das funções objetivo\n",
    "objs = [\n",
    "    lambda x: np.sum((x - 2) ** 2),  # Minimizar distância de x para 2\n",
    "    lambda x: np.sum((x + 2) ** 2)   # Minimizar distância de x para -2\n",
    "]\n",
    "\n",
    "# Definição das restrições\n",
    "constr_ieq = [\n",
    "    lambda x: np.sum((x - 1) ** 2)  # Restrição quadrática\n",
    "]\n",
    "\n",
    "# Número de variáveis\n",
    "n_var = 10\n",
    "\n",
    "# Criando o problema\n",
    "problem = FunctionalProblem(n_var,\n",
    "                            objs,\n",
    "                            constr_ieq=constr_ieq,\n",
    "                            xl=np.array([-10, -5, -10]),\n",
    "                            xu=np.array([10, 5, 10])\n",
    "                            )\n",
    "\n",
    "# Avaliação de 3 soluções aleatórias\n",
    "F, G = problem.evaluate(np.random.rand(3, 10))\n",
    "\n",
    "print(f\"F: {F}\\n\")\n",
    "print(f\"G: {G}\\n\")\n"
   ]
  },
  {
   "cell_type": "markdown",
   "metadata": {},
   "source": [
    "# Definindo Ótimos Conhecidos"
   ]
  },
  {
   "cell_type": "code",
   "execution_count": 4,
   "metadata": {},
   "outputs": [],
   "source": [
    "class ZDT1(Problem):\n",
    "\n",
    "    def __init__(self, n_var=30, **kwargs):\n",
    "        super().__init__(n_var=n_var, n_obj=2, n_ieq_constr=0, xl=0, xu=1, vtype=float, **kwargs)\n",
    "\n",
    "    def _calc_pareto_front(self, n_pareto_points=100):\n",
    "        x = np.linspace(0, 1, n_pareto_points)\n",
    "        return np.array([x, 1 - np.sqrt(x)]).T  # Define a Pareto-front conhecida\n",
    "\n",
    "    def _evaluate(self, x, out, *args, **kwargs):\n",
    "        f1 = x[:, 0]  # Primeira função objetivo\n",
    "        g = 1 + 9.0 / (self.n_var - 1) * np.sum(x[:, 1:], axis=1)  # Função auxiliar\n",
    "        f2 = g * (1 - np.power((f1 / g), 0.5))  # Segunda função objetivo\n",
    "\n",
    "        out[\"F\"] = np.column_stack([f1, f2])  # Retorna os valores de F\n"
   ]
  }
 ],
 "metadata": {
  "kernelspec": {
   "display_name": "pymoo",
   "language": "python",
   "name": "python3"
  },
  "language_info": {
   "codemirror_mode": {
    "name": "ipython",
    "version": 3
   },
   "file_extension": ".py",
   "mimetype": "text/x-python",
   "name": "python",
   "nbconvert_exporter": "python",
   "pygments_lexer": "ipython3",
   "version": "3.9.21"
  }
 },
 "nbformat": 4,
 "nbformat_minor": 2
}
