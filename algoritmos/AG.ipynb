{
 "cells": [
  {
   "cell_type": "markdown",
   "metadata": {},
   "source": [
    "### **Entendendo o Algoritmo Genético (GA) no pymoo**\n",
    "\n",
    "O **Algoritmo Genético (GA)** é uma técnica de otimização baseada na evolução biológica. Ele segue um fluxo específico para encontrar **soluções ótimas** em **problemas de otimização de um único objetivo**.\n",
    "\n",
    "O fluxo básico de um GA é:\n",
    "\n",
    "1️⃣ **População Inicial** → Geração de soluções iniciais.  \n",
    "2️⃣ **Avaliação** → Cálculo da aptidão (fitness) das soluções.  \n",
    "3️⃣ **Seleção** → Escolha das melhores soluções para reprodução.  \n",
    "4️⃣ **Crossover** → Combinação de pais para gerar novos indivíduos.  \n",
    "5️⃣ **Mutação** → Pequenas alterações nos filhos para aumentar a diversidade.  \n",
    "6️⃣ **Sobrevivência** → Escolha das melhores soluções para a próxima geração.  "
   ]
  },
  {
   "cell_type": "code",
   "execution_count": 1,
   "metadata": {},
   "outputs": [
    {
     "name": "stdout",
     "output_type": "stream",
     "text": [
      "Melhor solução encontrada: \n",
      "X = [1.         1.         1.         1.         1.         1.\n",
      " 1.         1.         1.         2.99551991 2.99431868 2.99999328\n",
      " 1.        ]\n",
      "F = [-14.98983187]\n"
     ]
    }
   ],
   "source": [
    "from pymoo.algorithms.soo.nonconvex.ga import GA\n",
    "from pymoo.problems import get_problem\n",
    "from pymoo.optimize import minimize\n",
    "\n",
    "# Definição do problema de otimização\n",
    "problem = get_problem(\"g1\")\n",
    "\n",
    "# Configuração do Algoritmo Genético\n",
    "algorithm = GA(\n",
    "    pop_size=100,  # Tamanho da população\n",
    "    eliminate_duplicates=True  # Evita indivíduos duplicados na população\n",
    ")\n",
    "\n",
    "# Execução da otimização\n",
    "res = minimize(problem,\n",
    "               algorithm,\n",
    "               seed=1,\n",
    "               verbose=False)\n",
    "\n",
    "# Exibir a melhor solução encontrada\n",
    "print(\"Melhor solução encontrada: \\nX = %s\\nF = %s\" % (res.X, res.F))\n"
   ]
  },
  {
   "cell_type": "markdown",
   "metadata": {},
   "source": [
    "## **🔍 Explicação do Código**\n",
    "### **1️⃣ Problema Definido (`get_problem(\"g1\")`)**\n",
    "- `pymoo` já tem diversos problemas de otimização pré-definidos.  \n",
    "- `\"g1\"` é um problema de otimização com **restrições**.\n",
    "\n",
    "### **2️⃣ Algoritmo Genético (`GA`)**\n",
    "- `pop_size=100` → Define **100 indivíduos** na população.\n",
    "- `eliminate_duplicates=True` → Evita que soluções duplicadas sejam mantidas.\n",
    "\n",
    "### **3️⃣ Execução (`minimize()`)**\n",
    "- `minimize(problem, algorithm, seed=1, verbose=False)`\n",
    "  - `problem` → O problema a ser resolvido.\n",
    "  - `algorithm` → O algoritmo genético configurado.\n",
    "  - `seed=1` → Mantém os resultados **reprodutíveis**.\n",
    "  - `verbose=False` → Desativa logs detalhados.\n",
    "\n",
    "### **4️⃣ Resultado (`res.X` e `res.F`)**\n",
    "- `res.X` → **Melhor conjunto de variáveis encontradas**.\n",
    "- `res.F` → **Melhor valor da função objetivo**.\n",
    "\n",
    "---\n",
    "\n",
    "## **Resumo**\n",
    "✅ O **Algoritmo Genético (GA)** segue um fluxo baseado na seleção, crossover e mutação.  \n",
    "✅ No `pymoo`, ele é implementado através da classe `GA()`.  \n",
    "✅ O código acima resolve o problema `\"g1\"` de otimização com restrições.  \n",
    "✅ A **melhor solução encontrada (`res.X`)** representa as variáveis ótimas do problema."
   ]
  }
 ],
 "metadata": {
  "kernelspec": {
   "display_name": "pymoo",
   "language": "python",
   "name": "python3"
  },
  "language_info": {
   "codemirror_mode": {
    "name": "ipython",
    "version": 3
   },
   "file_extension": ".py",
   "mimetype": "text/x-python",
   "name": "python",
   "nbconvert_exporter": "python",
   "pygments_lexer": "ipython3",
   "version": "3.9.21"
  }
 },
 "nbformat": 4,
 "nbformat_minor": 2
}
