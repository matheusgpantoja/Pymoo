{
 "cells": [
  {
   "cell_type": "markdown",
   "metadata": {},
   "source": [
    "O pymoo oferece **três formas principais** de executar a otimização:\n",
    "\n",
    "1. **Interface Funcional (`Functional`)** → Mais simples e direta.\n",
    "2. **Orientado a Objetos com `Next`** → Dá mais controle sobre a execução.\n",
    "3. **Orientado a Objetos com `Ask` e `Tell`** → Permite modificar e controlar cada iteração."
   ]
  },
  {
   "cell_type": "markdown",
   "metadata": {},
   "source": [
    "#  Interface Funcional (Functional)"
   ]
  },
  {
   "cell_type": "code",
   "execution_count": 2,
   "metadata": {},
   "outputs": [
    {
     "name": "stdout",
     "output_type": "stream",
     "text": [
      "==========================================================================\n",
      "n_gen  |  n_eval  | n_nds  |      igd      |       gd      |       hv     \n",
      "==========================================================================\n",
      "     1 |      100 |     18 |  1.9687500927 |  2.6048048316 |  0.000000E+00\n",
      "     2 |      200 |     22 |  1.9687500927 |  2.6551717460 |  0.000000E+00\n",
      "     3 |      300 |     16 |  1.9156076841 |  2.6054011843 |  0.000000E+00\n",
      "     4 |      400 |     27 |  1.9156076841 |  2.6075823797 |  0.000000E+00\n",
      "     5 |      500 |     22 |  1.4885566692 |  2.3893963765 |  0.000000E+00\n",
      "     6 |      600 |     14 |  1.4885566692 |  1.9295328132 |  0.000000E+00\n",
      "     7 |      700 |     17 |  1.2814171468 |  2.0349136810 |  0.000000E+00\n",
      "     8 |      800 |     21 |  1.2543191231 |  2.0440398653 |  0.000000E+00\n",
      "     9 |      900 |     18 |  1.2044501813 |  1.7727092892 |  0.000000E+00\n",
      "    10 |     1000 |     15 |  1.2037157959 |  1.6124550984 |  0.000000E+00\n",
      "hash 41.87514012215159\n"
     ]
    }
   ],
   "source": [
    "from pymoo.algorithms.moo.nsga2 import NSGA2\n",
    "from pymoo.problems import get_problem\n",
    "from pymoo.optimize import minimize\n",
    "\n",
    "# Define o problema\n",
    "problem = get_problem(\"zdt1\")\n",
    "\n",
    "# Escolhe o algoritmo NSGA-II\n",
    "algorithm = NSGA2(pop_size=100)\n",
    "\n",
    "# Executa a otimização\n",
    "res = minimize(problem,\n",
    "               algorithm,\n",
    "               ('n_gen', 10),  # Para após 10 gerações\n",
    "               seed=1,\n",
    "               verbose=True)\n",
    "\n",
    "# Verifica a consistência da solução\n",
    "print(\"hash\", res.F.sum())"
   ]
  },
  {
   "cell_type": "markdown",
   "metadata": {},
   "source": [
    "# Orientado a Objetos (Next Function)"
   ]
  },
  {
   "cell_type": "code",
   "execution_count": 3,
   "metadata": {},
   "outputs": [
    {
     "name": "stdout",
     "output_type": "stream",
     "text": [
      "2 100\n",
      "3 200\n",
      "4 300\n",
      "5 400\n",
      "6 500\n",
      "7 600\n",
      "8 700\n",
      "9 800\n",
      "10 900\n",
      "11 1000\n",
      "hash 41.87514012215159\n"
     ]
    }
   ],
   "source": [
    "from pymoo.algorithms.moo.nsga2 import NSGA2\n",
    "from pymoo.problems import get_problem\n",
    "\n",
    "problem = get_problem(\"zdt1\")\n",
    "algorithm = NSGA2(pop_size=100)\n",
    "\n",
    "# Configura o algoritmo sem rodá-lo imediatamente\n",
    "algorithm.setup(problem, termination=('n_gen', 10), seed=1, verbose=False)\n",
    "\n",
    "# Roda manualmente cada geração\n",
    "while algorithm.has_next():\n",
    "    algorithm.next()\n",
    "    print(algorithm.n_gen, algorithm.evaluator.n_eval)\n",
    "\n",
    "# Obtém os resultados\n",
    "res = algorithm.result()\n",
    "print(\"hash\", res.F.sum())"
   ]
  },
  {
   "cell_type": "markdown",
   "metadata": {},
   "source": [
    "# Orientado a Objetos (Ask and Tell)"
   ]
  },
  {
   "cell_type": "code",
   "execution_count": 4,
   "metadata": {},
   "outputs": [
    {
     "name": "stdout",
     "output_type": "stream",
     "text": [
      "2 100\n",
      "3 200\n",
      "4 300\n",
      "5 400\n",
      "6 500\n",
      "7 600\n",
      "8 700\n",
      "9 800\n",
      "10 900\n",
      "11 1000\n",
      "hash 41.87514012215159\n"
     ]
    }
   ],
   "source": [
    "from pymoo.algorithms.moo.nsga2 import NSGA2\n",
    "from pymoo.problems import get_problem\n",
    "\n",
    "problem = get_problem(\"zdt1\")\n",
    "algorithm = NSGA2(pop_size=100)\n",
    "\n",
    "# Configura o algoritmo\n",
    "algorithm.setup(problem, termination=('n_gen', 10), seed=1, verbose=False)\n",
    "\n",
    "# Roda manualmente cada geração\n",
    "while algorithm.has_next():\n",
    "    pop = algorithm.ask()  # Gera candidatos\n",
    "    algorithm.evaluator.eval(problem, pop)  # Avalia as soluções\n",
    "    algorithm.tell(pop)  # Retorna as soluções avaliadas\n",
    "\n",
    "    print(algorithm.n_gen, algorithm.evaluator.n_eval)\n",
    "\n",
    "# Obtém o resultado final\n",
    "res = algorithm.result()\n",
    "print(\"hash\", res.F.sum())"
   ]
  },
  {
   "cell_type": "markdown",
   "metadata": {},
   "source": [
    "# Problema Independente (Problem-Independent Execution)"
   ]
  },
  {
   "cell_type": "code",
   "execution_count": 5,
   "metadata": {},
   "outputs": [
    {
     "name": "stdout",
     "output_type": "stream",
     "text": [
      "2\n",
      "3\n",
      "4\n",
      "5\n",
      "6\n",
      "7\n",
      "8\n",
      "9\n",
      "10\n",
      "11\n",
      "hash 41.87514012215159\n"
     ]
    }
   ],
   "source": [
    "import numpy as np\n",
    "from pymoo.algorithms.moo.nsga2 import NSGA2\n",
    "from pymoo.core.evaluator import Evaluator\n",
    "from pymoo.core.problem import Problem\n",
    "from pymoo.core.termination import NoTermination\n",
    "from pymoo.problems.static import StaticProblem\n",
    "\n",
    "# Criando um problema sem avaliação definida\n",
    "problem = Problem(n_var=30, n_obj=2, n_constr=0, xl=np.zeros(30), xu=np.ones(30))\n",
    "\n",
    "algorithm = NSGA2(pop_size=100)\n",
    "termination = NoTermination()  # Nunca termina automaticamente\n",
    "\n",
    "algorithm.setup(problem, termination=termination)\n",
    "\n",
    "np.random.seed(1)\n",
    "\n",
    "# Executando manualmente 10 gerações\n",
    "for n_gen in range(10):\n",
    "    pop = algorithm.ask()\n",
    "    X = pop.get(\"X\")\n",
    "\n",
    "    # Avaliação manual (ZDT1)\n",
    "    f1 = X[:, 0]\n",
    "    v = 1 + 9.0 / (problem.n_var - 1) * np.sum(X[:, 1:], axis=1)\n",
    "    f2 = v * (1 - np.power((f1 / v), 0.5))\n",
    "    F = np.column_stack([f1, f2])\n",
    "\n",
    "    static = StaticProblem(problem, F=F)\n",
    "    Evaluator().eval(static, pop)\n",
    "\n",
    "    algorithm.tell(pop)\n",
    "    print(algorithm.n_gen)\n",
    "\n",
    "res = algorithm.result()\n",
    "print(\"hash\", res.F.sum())"
   ]
  }
 ],
 "metadata": {
  "kernelspec": {
   "display_name": "pymoo",
   "language": "python",
   "name": "python3"
  },
  "language_info": {
   "codemirror_mode": {
    "name": "ipython",
    "version": 3
   },
   "file_extension": ".py",
   "mimetype": "text/x-python",
   "name": "python",
   "nbconvert_exporter": "python",
   "pygments_lexer": "ipython3",
   "version": "3.9.21"
  }
 },
 "nbformat": 4,
 "nbformat_minor": 2
}
