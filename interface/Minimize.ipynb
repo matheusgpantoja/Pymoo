{
 "cells": [
  {
   "cell_type": "code",
   "execution_count": 5,
   "metadata": {},
   "outputs": [],
   "source": [
    "def minimize(problem,\n",
    "             algorithm,\n",
    "             termination=None,\n",
    "             seed=None,\n",
    "             verbose=False,\n",
    "             display=None,\n",
    "             callback=None,\n",
    "             return_least_infeasible=False,\n",
    "             save_history=False):\n",
    "    \"\"\"\n",
    "    Executa um algoritmo de otimização multiobjetivo no pymoo.\n",
    "\n",
    "    Parâmetros:\n",
    "    -----------\n",
    "    problem : pymoo.core.problem.Problem\n",
    "        O problema de otimização a ser resolvido.\n",
    "    \n",
    "    algorithm : pymoo.core.algorithm.Algorithm\n",
    "        O algoritmo de otimização a ser utilizado.\n",
    "    \n",
    "    termination : pymoo.core.termination.Termination, opcional\n",
    "        Critério de parada do algoritmo. Se None, um critério padrão é usado.\n",
    "    \n",
    "    seed : int, opcional\n",
    "        Semente para a aleatoriedade, garantindo reprodutibilidade.\n",
    "    \n",
    "    verbose : bool, opcional\n",
    "        Se True, exibe detalhes da execução.\n",
    "    \n",
    "    display : pymoo.util.display.Display, opcional\n",
    "        Classe de exibição personalizada para mostrar o progresso da otimização.\n",
    "    \n",
    "    callback : function, opcional\n",
    "        Função de callback chamada a cada geração.\n",
    "    \n",
    "    return_least_infeasible : bool, opcional\n",
    "        Se True, retorna a melhor solução **mesmo que seja inviável**.\n",
    "    \n",
    "    save_history : bool, opcional\n",
    "        Se True, salva o histórico de todas as gerações para análise posterior.\n",
    "\n",
    "    Retorna:\n",
    "    --------\n",
    "    res : pymoo.optimize.Result\n",
    "        Objeto contendo os resultados da otimização.\n",
    "    \"\"\"\n"
   ]
  }
 ],
 "metadata": {
  "kernelspec": {
   "display_name": "pymoo",
   "language": "python",
   "name": "python3"
  },
  "language_info": {
   "codemirror_mode": {
    "name": "ipython",
    "version": 3
   },
   "file_extension": ".py",
   "mimetype": "text/x-python",
   "name": "python",
   "nbconvert_exporter": "python",
   "pygments_lexer": "ipython3",
   "version": "3.9.21"
  }
 },
 "nbformat": 4,
 "nbformat_minor": 2
}
