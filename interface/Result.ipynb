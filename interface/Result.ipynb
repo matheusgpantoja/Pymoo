{
 "cells": [
  {
   "cell_type": "code",
   "execution_count": 1,
   "metadata": {},
   "outputs": [],
   "source": [
    "from pymoo.algorithms.soo.nonconvex.ga import GA\n",
    "from pymoo.problems import get_problem\n",
    "from pymoo.optimize import minimize\n",
    "\n",
    "# Definindo o problema de otimização (Sphere)\n",
    "problem = get_problem(\"sphere\")\n",
    "\n",
    "# Escolhendo o algoritmo Genético (GA)\n",
    "algorithm = GA(pop_size=5)\n",
    "\n",
    "# Executando a otimização por 30 gerações\n",
    "res = minimize(problem,\n",
    "               algorithm,\n",
    "               ('n_gen', 30),\n",
    "               seed=1)"
   ]
  },
  {
   "cell_type": "markdown",
   "metadata": {},
   "source": [
    "res.X      # Valores das variáveis de decisão (design space)\n",
    "res.F      # Valores das funções objetivo\n",
    "res.G      # Valores das restrições\n",
    "res.CV     # Violação agregada das restrições\n",
    "res.algorithm  # Objeto do algoritmo otimizado\n",
    "res.opt    # Soluções ótimas como objeto Population\n",
    "res.pop    # População final do algoritmo\n",
    "res.history  # Histórico da otimização (se `save_history=True` estiver ativado)\n",
    "res.exec_time  # Tempo total de execução do algoritmo"
   ]
  },
  {
   "cell_type": "code",
   "execution_count": 2,
   "metadata": {},
   "outputs": [
    {
     "data": {
      "text/plain": [
       "array([0.5340465 , 0.50205636, 0.34165826, 0.41981651, 0.46178424,\n",
       "       0.5639494 , 0.40332476, 0.55896734, 0.39803397, 0.33708973])"
      ]
     },
     "execution_count": 2,
     "metadata": {},
     "output_type": "execute_result"
    }
   ],
   "source": [
    "res.X"
   ]
  },
  {
   "cell_type": "code",
   "execution_count": 3,
   "metadata": {},
   "outputs": [
    {
     "data": {
      "text/plain": [
       "array([0.08797494])"
      ]
     },
     "execution_count": 3,
     "metadata": {},
     "output_type": "execute_result"
    }
   ],
   "source": [
    "res.F"
   ]
  },
  {
   "cell_type": "code",
   "execution_count": 4,
   "metadata": {},
   "outputs": [
    {
     "data": {
      "text/plain": [
       "array([], dtype=float64)"
      ]
     },
     "execution_count": 4,
     "metadata": {},
     "output_type": "execute_result"
    }
   ],
   "source": [
    "res.G  # Restrições (problema sem restrições retorna uma lista vazia)"
   ]
  },
  {
   "cell_type": "code",
   "execution_count": 5,
   "metadata": {},
   "outputs": [
    {
     "data": {
      "text/plain": [
       "array([0.])"
      ]
     },
     "execution_count": 5,
     "metadata": {},
     "output_type": "execute_result"
    }
   ],
   "source": [
    "res.CV  # Violação de restrição agregada"
   ]
  },
  {
   "cell_type": "code",
   "execution_count": 6,
   "metadata": {},
   "outputs": [
    {
     "data": {
      "text/plain": [
       "<pymoo.algorithms.soo.nonconvex.ga.GA at 0x7f8cb015ba00>"
      ]
     },
     "execution_count": 6,
     "metadata": {},
     "output_type": "execute_result"
    }
   ],
   "source": [
    "res.algorithm"
   ]
  },
  {
   "cell_type": "code",
   "execution_count": 7,
   "metadata": {},
   "outputs": [],
   "source": [
    "pop = res.pop"
   ]
  },
  {
   "cell_type": "code",
   "execution_count": 8,
   "metadata": {},
   "outputs": [
    {
     "data": {
      "text/plain": [
       "array([[0.5340465 , 0.50205636, 0.34165826, 0.41981651, 0.46178424,\n",
       "        0.5639494 , 0.40332476, 0.55896734, 0.39803397, 0.33708973],\n",
       "       [0.5340465 , 0.50205636, 0.34165826, 0.41981651, 0.46302044,\n",
       "        0.5639494 , 0.40332476, 0.55896734, 0.40619667, 0.3168352 ],\n",
       "       [0.5340465 , 0.50205636, 0.34165826, 0.41981651, 0.46412638,\n",
       "        0.5639494 , 0.40332476, 0.55896734, 0.39803397, 0.31733429],\n",
       "       [0.5340465 , 0.50205636, 0.34165826, 0.41981651, 0.46304329,\n",
       "        0.5639494 , 0.40332476, 0.55896734, 0.39803397, 0.3168352 ],\n",
       "       [0.5340465 , 0.50205636, 0.34165826, 0.41981651, 0.46302044,\n",
       "        0.5639494 , 0.40332476, 0.55896734, 0.39803397, 0.3168352 ]])"
      ]
     },
     "execution_count": 8,
     "metadata": {},
     "output_type": "execute_result"
    }
   ],
   "source": [
    "# Obtendo os valores das variáveis de decisão da população final\n",
    "pop.get(\"X\")"
   ]
  },
  {
   "cell_type": "code",
   "execution_count": 9,
   "metadata": {},
   "outputs": [
    {
     "data": {
      "text/plain": [
       "array([[0.08797494],\n",
       "       [0.09329356],\n",
       "       [0.09462842],\n",
       "       [0.09488988],\n",
       "       [0.09489157]])"
      ]
     },
     "execution_count": 9,
     "metadata": {},
     "output_type": "execute_result"
    }
   ],
   "source": [
    "# Obtendo os valores da função objetivo da população final\n",
    "pop.get(\"F\")"
   ]
  },
  {
   "cell_type": "code",
   "execution_count": 10,
   "metadata": {},
   "outputs": [
    {
     "name": "stdout",
     "output_type": "stream",
     "text": [
      "=================================================================================================\n",
      "n_gen  |  n_eval  |     cv_min    |     cv_avg    |     f_avg     |     f_min     |     f_gap    \n",
      "=================================================================================================\n",
      "     1 |        5 |  1.350271E+02 |  5.475700E+02 |             - |             - |             -\n",
      "     2 |       10 |  1.350271E+02 |  3.326996E+02 |             - |             - |             -\n",
      "     3 |       15 |  1.340021E+02 |  2.054140E+02 |             - |             - |             -\n",
      "     4 |       20 |  1.340021E+02 |  1.344295E+02 |             - |             - |             -\n",
      "     5 |       25 |  1.148974E+02 |  1.301816E+02 |             - |             - |             -\n"
     ]
    }
   ],
   "source": [
    "problem = get_problem(\"g1\")\n",
    "algorithm = GA(pop_size=5)\n",
    "res = minimize(problem,\n",
    "               algorithm,\n",
    "               ('n_gen', 5),\n",
    "               verbose=True,\n",
    "               seed=1)"
   ]
  },
  {
   "cell_type": "code",
   "execution_count": 11,
   "metadata": {},
   "outputs": [
    {
     "data": {
      "text/plain": [
       "(None, None, None, None)"
      ]
     },
     "execution_count": 11,
     "metadata": {},
     "output_type": "execute_result"
    }
   ],
   "source": [
    "res.X, res.F, res.G, res.CV"
   ]
  },
  {
   "cell_type": "code",
   "execution_count": 12,
   "metadata": {},
   "outputs": [
    {
     "name": "stdout",
     "output_type": "stream",
     "text": [
      "=================================================================================================\n",
      "n_gen  |  n_eval  |     cv_min    |     cv_avg    |     f_avg     |     f_min     |     f_gap    \n",
      "=================================================================================================\n",
      "     1 |        5 |  1.350271E+02 |  5.475700E+02 |             - |             - |             -\n",
      "     2 |       10 |  1.350271E+02 |  3.326996E+02 |             - |             - |             -\n",
      "     3 |       15 |  1.340021E+02 |  2.054140E+02 |             - |             - |             -\n",
      "     4 |       20 |  1.340021E+02 |  1.344295E+02 |             - |             - |             -\n",
      "     5 |       25 |  1.148974E+02 |  1.301816E+02 |             - |             - |             -\n"
     ]
    }
   ],
   "source": [
    "problem = get_problem(\"g1\")\n",
    "algorithm = GA(pop_size=5)\n",
    "res = minimize(problem,\n",
    "               algorithm,\n",
    "               ('n_gen', 5),\n",
    "               verbose=True,\n",
    "               return_least_infeasible=True,\n",
    "               seed=1)"
   ]
  },
  {
   "cell_type": "code",
   "execution_count": 13,
   "metadata": {},
   "outputs": [
    {
     "data": {
      "text/plain": [
       "(array([ 0.75014431,  0.9351402 ,  0.74816565,  0.26852842,  0.72881453,\n",
       "         0.11094439,  0.44789353,  0.9085955 ,  0.29361415, 23.65973322,\n",
       "        13.00285721,  1.9656022 ,  0.67883553]),\n",
       " array([-38.63231253]),\n",
       " array([30.03315945, 18.62195536,  8.33507111, 17.6585787 ,  5.52173564,\n",
       "        -4.01972304, 22.39386185, 12.33307491, -0.14520295]),\n",
       " array([114.89743704]))"
      ]
     },
     "execution_count": 13,
     "metadata": {},
     "output_type": "execute_result"
    }
   ],
   "source": [
    "res.X, res.F, res.G, res.CV"
   ]
  },
  {
   "cell_type": "code",
   "execution_count": 14,
   "metadata": {},
   "outputs": [],
   "source": [
    "from pymoo.algorithms.moo.nsga2 import NSGA2\n",
    "\n",
    "problem = get_problem(\"zdt2\")\n",
    "algorithm = NSGA2()\n",
    "res = minimize(problem,\n",
    "               algorithm,\n",
    "               ('n_gen', 10),\n",
    "               seed=1)"
   ]
  },
  {
   "cell_type": "code",
   "execution_count": 15,
   "metadata": {},
   "outputs": [
    {
     "data": {
      "text/plain": [
       "array([[1.63139466e-04, 3.32756054e+00],\n",
       "       [9.28340571e-01, 2.55735495e+00],\n",
       "       [1.94284053e-02, 3.21756760e+00],\n",
       "       [5.98649978e-02, 2.89294302e+00]])"
      ]
     },
     "execution_count": 15,
     "metadata": {},
     "output_type": "execute_result"
    }
   ],
   "source": [
    "res.F"
   ]
  }
 ],
 "metadata": {
  "kernelspec": {
   "display_name": "pymoo",
   "language": "python",
   "name": "python3"
  },
  "language_info": {
   "codemirror_mode": {
    "name": "ipython",
    "version": 3
   },
   "file_extension": ".py",
   "mimetype": "text/x-python",
   "name": "python",
   "nbconvert_exporter": "python",
   "pygments_lexer": "ipython3",
   "version": "3.9.21"
  }
 },
 "nbformat": 4,
 "nbformat_minor": 2
}
