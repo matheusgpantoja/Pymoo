{
 "cells": [
  {
   "cell_type": "code",
   "execution_count": 2,
   "metadata": {},
   "outputs": [
    {
     "name": "stdout",
     "output_type": "stream",
     "text": [
      "=================================================\n",
      "n_gen  |  n_eval  |     x_mean    |     x_std    \n",
      "=================================================\n",
      "     1 |      100 |  0.5001227728 |  0.2877408633\n",
      "     2 |      200 |  0.4593269465 |  0.2861729745\n",
      "     3 |      300 |  0.4262522159 |  0.2852100808\n",
      "     4 |      400 |  0.4026633289 |  0.2773791496\n",
      "     5 |      500 |  0.3850326611 |  0.2719518939\n",
      "     6 |      600 |  0.3716348041 |  0.2694989517\n",
      "     7 |      700 |  0.3456207925 |  0.2608847090\n",
      "     8 |      800 |  0.3268969233 |  0.2555223578\n",
      "     9 |      900 |  0.3109206006 |  0.2486476627\n",
      "    10 |     1000 |  0.2970182918 |  0.2430209280\n"
     ]
    }
   ],
   "source": [
    "import numpy as np\n",
    "\n",
    "from pymoo.algorithms.moo.nsga2 import NSGA2\n",
    "from pymoo.problems import get_problem\n",
    "from pymoo.optimize import minimize\n",
    "from pymoo.util.display.column import Column\n",
    "from pymoo.util.display.output import Output\n",
    "\n",
    "\n",
    "\n",
    "class MyOutput(Output):\n",
    "\n",
    "    def __init__(self):\n",
    "        super().__init__()\n",
    "        self.x_mean = Column(\"x_mean\", width=13)  # Média das variáveis de decisão\n",
    "        self.x_std = Column(\"x_std\", width=13)  # Desvio padrão das variáveis de decisão\n",
    "        self.columns += [self.x_mean, self.x_std]  # Adicionando colunas ao print\n",
    "\n",
    "    def update(self, algorithm):\n",
    "        super().update(algorithm)\n",
    "        self.x_mean.set(np.mean(algorithm.pop.get(\"X\")))  # Calcula a média\n",
    "        self.x_std.set(np.std(algorithm.pop.get(\"X\")))  # Calcula o desvio padrão\n",
    "        \n",
    "\n",
    "problem = get_problem(\"zdt2\")\n",
    "algorithm = NSGA2(pop_size=100)\n",
    "\n",
    "res = minimize(problem,\n",
    "               algorithm,\n",
    "               ('n_gen', 10),  # Rodar por 10 gerações\n",
    "               seed=1,\n",
    "               output=MyOutput(),  # Usando a saída customizada\n",
    "               verbose=True)\n"
   ]
  }
 ],
 "metadata": {
  "kernelspec": {
   "display_name": "pymoo",
   "language": "python",
   "name": "python3"
  },
  "language_info": {
   "codemirror_mode": {
    "name": "ipython",
    "version": 3
   },
   "file_extension": ".py",
   "mimetype": "text/x-python",
   "name": "python",
   "nbconvert_exporter": "python",
   "pygments_lexer": "ipython3",
   "version": "3.9.21"
  }
 },
 "nbformat": 4,
 "nbformat_minor": 2
}
