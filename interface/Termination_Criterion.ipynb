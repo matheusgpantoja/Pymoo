{
 "cells": [
  {
   "cell_type": "code",
   "execution_count": 1,
   "metadata": {},
   "outputs": [
    {
     "name": "stdout",
     "output_type": "stream",
     "text": [
      "475\n"
     ]
    }
   ],
   "source": [
    "from pymoo.algorithms.moo.nsga2 import NSGA2\n",
    "from pymoo.problems import get_problem\n",
    "from pymoo.optimize import minimize\n",
    "\n",
    "# Definindo um problema multiobjetivo\n",
    "problem = get_problem(\"zdt1\")\n",
    "\n",
    "# Escolhendo o algoritmo NSGA-II\n",
    "algorithm = NSGA2(pop_size=100)\n",
    "\n",
    "# Executando a otimização SEM um critério de parada explícito\n",
    "res = minimize(problem, algorithm, seed=1)\n",
    "\n",
    "# Número de gerações utilizadas até a parada\n",
    "print(res.algorithm.n_gen)"
   ]
  },
  {
   "cell_type": "code",
   "execution_count": 2,
   "metadata": {},
   "outputs": [],
   "source": [
    "from pymoo.termination.default import DefaultMultiObjectiveTermination\n",
    "\n",
    "termination = DefaultMultiObjectiveTermination(\n",
    "    xtol=1e-8,       # Tolerância no espaço de decisão\n",
    "    cvtol=1e-6,      # Tolerância em restrições\n",
    "    ftol=0.0025,     # Tolerância no espaço dos objetivos\n",
    "    period=30,       # Janela de verificação\n",
    "    n_max_gen=1000,  # Limite máximo de gerações\n",
    "    n_max_evals=100000  # Limite máximo de avaliações de função\n",
    ")"
   ]
  },
  {
   "cell_type": "code",
   "execution_count": 3,
   "metadata": {},
   "outputs": [],
   "source": [
    "from pymoo.termination.default import DefaultSingleObjectiveTermination\n",
    "\n",
    "termination = DefaultSingleObjectiveTermination(\n",
    "    xtol=1e-8,\n",
    "    cvtol=1e-6,\n",
    "    ftol=1e-6,\n",
    "    period=20,\n",
    "    n_max_gen=1000,\n",
    "    n_max_evals=100000\n",
    ")"
   ]
  },
  {
   "cell_type": "code",
   "execution_count": 4,
   "metadata": {},
   "outputs": [
    {
     "name": "stdout",
     "output_type": "stream",
     "text": [
      "==========================================================================\n",
      "n_gen  |  n_eval  | n_nds  |      igd      |       gd      |       hv     \n",
      "==========================================================================\n",
      "     1 |      100 |     15 |  1.3046483561 |  1.5301910684 |  0.000000E+00\n",
      "     2 |      200 |     18 |  1.3046483561 |  1.5588523095 |  0.000000E+00\n",
      "     3 |      300 |     16 |  1.2932937752 |  1.5844238263 |  0.000000E+00\n"
     ]
    }
   ],
   "source": [
    "from pymoo.algorithms.moo.nsga2 import NSGA2\n",
    "from pymoo.problems import get_problem\n",
    "from pymoo.termination import get_termination\n",
    "from pymoo.optimize import minimize\n",
    "\n",
    "problem = get_problem(\"zdt3\")\n",
    "algorithm = NSGA2(pop_size=100)\n",
    "termination = get_termination(\"n_eval\", 300)\n",
    "\n",
    "res = minimize(problem,\n",
    "               algorithm,\n",
    "               termination,\n",
    "               pf=problem.pareto_front(),\n",
    "               seed=1,\n",
    "               verbose=True)"
   ]
  },
  {
   "cell_type": "code",
   "execution_count": 5,
   "metadata": {},
   "outputs": [
    {
     "name": "stdout",
     "output_type": "stream",
     "text": [
      "==========================================================================\n",
      "n_gen  |  n_eval  | n_nds  |      igd      |       gd      |       hv     \n",
      "==========================================================================\n",
      "     1 |      100 |     15 |  1.3046483561 |  1.5301910684 |  0.000000E+00\n",
      "     2 |      200 |     18 |  1.3046483561 |  1.5588523095 |  0.000000E+00\n",
      "     3 |      300 |     16 |  1.2932937752 |  1.5844238263 |  0.000000E+00\n",
      "     4 |      400 |     15 |  1.1445622659 |  1.4842997913 |  0.000000E+00\n",
      "     5 |      500 |     14 |  1.0123206326 |  1.3481538890 |  0.000000E+00\n",
      "     6 |      600 |     14 |  0.8349098789 |  1.2741006339 |  0.000000E+00\n",
      "     7 |      700 |     20 |  0.6923726099 |  1.1695633437 |  0.000000E+00\n",
      "     8 |      800 |     16 |  0.6923726099 |  1.0116742630 |  0.000000E+00\n",
      "     9 |      900 |     22 |  0.6397831073 |  0.9591150923 |  0.000000E+00\n",
      "    10 |     1000 |     29 |  0.6190753867 |  0.9737361068 |  8.415737E-07\n"
     ]
    }
   ],
   "source": [
    "from pymoo.algorithms.moo.nsga2 import NSGA2\n",
    "from pymoo.problems import get_problem\n",
    "from pymoo.termination import get_termination\n",
    "from pymoo.optimize import minimize\n",
    "\n",
    "problem = get_problem(\"zdt3\")\n",
    "algorithm = NSGA2(pop_size=100)\n",
    "termination = get_termination(\"n_gen\", 10)\n",
    "\n",
    "res = minimize(problem,\n",
    "               algorithm,\n",
    "               termination,\n",
    "               pf=problem.pareto_front(),\n",
    "               seed=1,\n",
    "               verbose=True)"
   ]
  },
  {
   "cell_type": "code",
   "execution_count": 6,
   "metadata": {},
   "outputs": [
    {
     "name": "stdout",
     "output_type": "stream",
     "text": [
      "Número de gerações executadas: 477\n"
     ]
    }
   ],
   "source": [
    "from pymoo.algorithms.moo.nsga2 import NSGA2\n",
    "from pymoo.problems import get_problem\n",
    "from pymoo.termination import get_termination\n",
    "from pymoo.optimize import minimize\n",
    "\n",
    "problem = get_problem(\"zdt3\")\n",
    "algorithm = NSGA2(pop_size=100)\n",
    "termination = get_termination(\"time\", \"00:00:03\")\n",
    "\n",
    "res = minimize(problem,\n",
    "               algorithm,\n",
    "               termination,\n",
    "               pf=problem.pareto_front(),\n",
    "               seed=1,\n",
    "               verbose=False)\n",
    "\n",
    "print(\"Número de gerações executadas:\", res.algorithm.n_gen)"
   ]
  },
  {
   "cell_type": "code",
   "execution_count": 7,
   "metadata": {},
   "outputs": [
    {
     "name": "stdout",
     "output_type": "stream",
     "text": [
      "Número de gerações executadas: 176\n"
     ]
    }
   ],
   "source": [
    "from pymoo.algorithms.moo.nsga2 import NSGA2\n",
    "from pymoo.problems import get_problem\n",
    "from pymoo.optimize import minimize\n",
    "from pymoo.termination.xtol import DesignSpaceTermination\n",
    "from pymoo.termination.robust import RobustTermination\n",
    "\n",
    "problem = get_problem(\"zdt3\")\n",
    "algorithm = NSGA2(pop_size=100)\n",
    "termination = RobustTermination(DesignSpaceTermination(tol=0.01), period=20)\n",
    "\n",
    "res = minimize(problem,\n",
    "               algorithm,\n",
    "               termination,\n",
    "               pf=problem.pareto_front(),\n",
    "               seed=1,\n",
    "               verbose=False)\n",
    "\n",
    "print(\"Número de gerações executadas:\", res.algorithm.n_gen)"
   ]
  },
  {
   "cell_type": "code",
   "execution_count": 8,
   "metadata": {},
   "outputs": [
    {
     "name": "stdout",
     "output_type": "stream",
     "text": [
      "Número de gerações executadas: 150\n"
     ]
    },
    {
     "data": {
      "text/plain": [
       "<pymoo.visualization.scatter.Scatter at 0x7fb4757597c0>"
      ]
     },
     "execution_count": 8,
     "metadata": {},
     "output_type": "execute_result"
    },
    {
     "data": {
      "image/png": "[encoded data removed]",
      "text/plain": [
       "<Figure size 800x600 with 1 Axes>"
      ]
     },
     "metadata": {},
     "output_type": "display_data"
    }
   ],
   "source": [
    "from pymoo.algorithms.moo.nsga2 import NSGA2\n",
    "from pymoo.problems import get_problem\n",
    "from pymoo.optimize import minimize\n",
    "from pymoo.termination.ftol import MultiObjectiveSpaceTermination\n",
    "from pymoo.visualization.scatter import Scatter\n",
    "\n",
    "problem = get_problem(\"zdt3\")\n",
    "\n",
    "algorithm = NSGA2(pop_size=100)\n",
    "\n",
    "termination = RobustTermination(\n",
    "    MultiObjectiveSpaceTermination(tol=0.005, n_skip=5), period=20)\n",
    "\n",
    "\n",
    "res = minimize(problem,\n",
    "               algorithm,\n",
    "               termination,\n",
    "               pf=True,\n",
    "               seed=1,\n",
    "               verbose=False)\n",
    "\n",
    "print(\"Número de gerações executadas:\", res.algorithm.n_gen)\n",
    "plot = Scatter(title=\"ZDT3\")\n",
    "plot.add(problem.pareto_front(use_cache=False, flatten=False), plot_type=\"line\", color=\"black\")\n",
    "plot.add(res.F, facecolor=\"none\", edgecolor=\"red\", alpha=0.8, s=20)\n",
    "plot.show()"
   ]
  }
 ],
 "metadata": {
  "kernelspec": {
   "display_name": "pymoo",
   "language": "python",
   "name": "python3"
  },
  "language_info": {
   "codemirror_mode": {
    "name": "ipython",
    "version": 3
   },
   "file_extension": ".py",
   "mimetype": "text/x-python",
   "name": "python",
   "nbconvert_exporter": "python",
   "pygments_lexer": "ipython3",
   "version": "3.9.21"
  }
 },
 "nbformat": 4,
 "nbformat_minor": 2
}
